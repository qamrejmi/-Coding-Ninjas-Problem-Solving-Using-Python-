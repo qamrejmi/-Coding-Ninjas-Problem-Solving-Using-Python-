{
 "cells": [
  {
   "cell_type": "code",
   "execution_count": 7,
   "id": "c7487037",
   "metadata": {},
   "outputs": [
    {
     "name": "stdout",
     "output_type": "stream",
     "text": [
      "plz enter the range to check prime no.:12\n",
      "not prime\n"
     ]
    }
   ],
   "source": [
    "n=int(input(\"plz enter the range to check prime no.:\"))\n",
    "flag=False\n",
    "for d in range(2,n,1):\n",
    "    if n%d==0:\n",
    "        flag=True\n",
    "if flag:\n",
    "    print(\"not prime\")\n",
    "    \n",
    "else:\n",
    "    print(\"prime\")"
   ]
  },
  {
   "cell_type": "code",
   "execution_count": 11,
   "id": "68889ee1",
   "metadata": {},
   "outputs": [
    {
     "name": "stdout",
     "output_type": "stream",
     "text": [
      "plz enter the range to check prime no.:10\n",
      "2\n",
      "3\n",
      "5\n",
      "7\n"
     ]
    }
   ],
   "source": [
    "n=int(input(\"plz enter the range to check prime no.:\"))\n",
    "flag=False\n",
    "for d in range(1,n+1):\n",
    "    if d>1:\n",
    "        for i in range(2,d):\n",
    "            if d%i==0:\n",
    "                break\n",
    "               # print(d)\n",
    "        else:\n",
    "             print(d)"
   ]
  },
  {
   "cell_type": "code",
   "execution_count": 1,
   "id": "689715b8",
   "metadata": {},
   "outputs": [
    {
     "name": "stdout",
     "output_type": "stream",
     "text": [
      "12\n",
      "1100\n"
     ]
    }
   ],
   "source": [
    "def convertToBinary(n):\n",
    "   if n > 1:\n",
    "       convertToBinary(n//2)\n",
    "   print(n % 2,end = '')\n",
    "\n",
    "# decimal number\n",
    "dec = int(input())\n",
    "\n",
    "convertToBinary(dec)\n",
    "print()"
   ]
  },
  {
   "cell_type": "code",
   "execution_count": 11,
   "id": "a3b406d3",
   "metadata": {},
   "outputs": [
    {
     "name": "stdout",
     "output_type": "stream",
     "text": [
      "enter;12\n",
      "0110"
     ]
    }
   ],
   "source": [
    "n=int(input(\"enter;\"))\n",
    "while n>0:\n",
    "    n=n//2\n",
    "    print(n%2,end='')"
   ]
  },
  {
   "cell_type": "code",
   "execution_count": 9,
   "id": "4ecaf77d",
   "metadata": {},
   "outputs": [
    {
     "name": "stdout",
     "output_type": "stream",
     "text": [
      "1100\n",
      "12\n"
     ]
    }
   ],
   "source": [
    "n = int(input())\n",
    "\n",
    "dec = 0\n",
    "i = 1\n",
    "while n!=0:\n",
    "    rem = n%10\n",
    "    dec = dec + (rem*i)\n",
    "    i = i*2\n",
    "    n = int(n/10)\n",
    "\n",
    "print(dec)"
   ]
  },
  {
   "cell_type": "code",
   "execution_count": 15,
   "id": "8b7dfdb8",
   "metadata": {},
   "outputs": [
    {
     "name": "stdout",
     "output_type": "stream",
     "text": [
      "0\n",
      "0\n",
      "1\n",
      "1\n"
     ]
    }
   ],
   "source": [
    "n=12\n",
    "while n>0:\n",
    "    rem=n%2\n",
    "    print(rem)\n",
    "    n=n//2"
   ]
  },
  {
   "cell_type": "code",
   "execution_count": null,
   "id": "4e278b45",
   "metadata": {},
   "outputs": [],
   "source": [
    " = int(input())\n",
    "\n",
    "binary = 0\n",
    "power = 1\n",
    "\n",
    "while n >0:\n",
    "    lastbit = n%2\n",
    "    binary += (lastbit*power)\n",
    "    power *=10\n",
    "    n = n//2\n",
    "print(binary)"
   ]
  },
  {
   "cell_type": "code",
   "execution_count": 49,
   "id": "4c05397e",
   "metadata": {},
   "outputs": [
    {
     "name": "stdout",
     "output_type": "stream",
     "text": [
      "5\n",
      "0\n",
      "2\n",
      "4\n",
      "10\n",
      "24\n"
     ]
    }
   ],
   "source": [
    "n = int(input())\n",
    "a = 0\n",
    "b = 1\n",
    "sum = 0\n",
    "i = 1\n",
    "if n==1:\n",
    "    print(b)\n",
    "#esle:\n",
    "else:\n",
    "    while i <= n:\n",
    "        print(sum)\n",
    "        a=b\n",
    "        b=a+sum\n",
    "        sum=a+b\n",
    "        i+=1\n"
   ]
  },
  {
   "cell_type": "code",
   "execution_count": 20,
   "id": "081f26a1",
   "metadata": {},
   "outputs": [
    {
     "name": "stdout",
     "output_type": "stream",
     "text": [
      "2\n"
     ]
    }
   ],
   "source": [
    "def evenFib(n) :\n",
    "\tif (n < 1) :\n",
    "\t\treturn n\n",
    "\tif (n == 1) :\n",
    "\t\treturn 2\n",
    "\n",
    "\treturn ((4 * evenFib(n-1)) + evenFib(n-2))\n",
    "\n",
    "\n",
    "\n",
    "n = int(input())\n",
    "print(evenFib(n))\n",
    "\n"
   ]
  },
  {
   "cell_type": "code",
   "execution_count": 24,
   "id": "4d5616fc",
   "metadata": {},
   "outputs": [
    {
     "name": "stdout",
     "output_type": "stream",
     "text": [
      "3\n",
      "9\n"
     ]
    }
   ],
   "source": [
    "n=int(input())\n",
    "if n<1:\n",
    "    print(n)\n",
    "elif n==1:\n",
    "    print(2)\n",
    "else:\n",
    "    b=n-1\n",
    "    c=n-2\n",
    "    print(4*b+c)"
   ]
  },
  {
   "cell_type": "code",
   "execution_count": 34,
   "id": "65f4e9fb",
   "metadata": {},
   "outputs": [
    {
     "name": "stdout",
     "output_type": "stream",
     "text": [
      "How many terms? 20\n",
      "0\n",
      "1\n",
      "1\n",
      "2\n",
      "3\n",
      "5\n",
      "8\n",
      "13\n",
      "21\n",
      "34\n",
      "55\n",
      "89\n",
      "144\n",
      "233\n",
      "377\n",
      "610\n",
      "987\n",
      "1597\n",
      "2584\n",
      "4181\n"
     ]
    }
   ],
   "source": [
    "nterms = int(input(\"How many terms? \"))\n",
    "\n",
    "# first two terms\n",
    "n1, n2 = 0, 1\n",
    "count = 0\n",
    "\n",
    "# check if the number of terms is valid\n",
    "if nterms <= 0:\n",
    "   print(\"Please enter a positive integer\")\n",
    "# if there is only one term, return n1\n",
    "elif nterms == 1:\n",
    "   print(\"Fibonacci sequence upto\",nterms,\":\")\n",
    "   print(n1)\n",
    "# generate fibonacci sequence\n",
    "else:\n",
    "   \n",
    "   while count < nterms:\n",
    "       \n",
    "            print(n1)\n",
    "            nth = n1 + n2\n",
    "       # update values\n",
    "            n1 = n2\n",
    "            n2 = nth\n",
    "            count += 1"
   ]
  },
  {
   "cell_type": "code",
   "execution_count": 36,
   "id": "56d3027f",
   "metadata": {},
   "outputs": [
    {
     "name": "stdout",
     "output_type": "stream",
     "text": [
      "enter;8\n",
      "0\n",
      "1\n",
      "1\n",
      "2\n",
      "3\n",
      "5\n",
      "8\n",
      "13\n"
     ]
    }
   ],
   "source": [
    "n=int(input(\"enter;\"))\n",
    "a=0\n",
    "b=1\n",
    "i=0\n",
    "sum=0\n",
    "if n<1:\n",
    "    print(\"invalid input\")\n",
    "elif n==1:\n",
    "    print(\"none\")\n",
    "else:\n",
    "    while i<n:\n",
    "        print(a)\n",
    "        nth=a+b\n",
    "        a=b\n",
    "        b=nth\n",
    "        i+=1\n",
    "        "
   ]
  },
  {
   "cell_type": "code",
   "execution_count": 43,
   "id": "7732d467",
   "metadata": {},
   "outputs": [
    {
     "name": "stdout",
     "output_type": "stream",
     "text": [
      "Please Enter the Fibonacci Number Range = 5\n",
      "0  1  1  2  3  7\n"
     ]
    }
   ],
   "source": [
    "Number = int(input(\"Please Enter the Fibonacci Number Range = \"))\n",
    "\n",
    "First = 0\n",
    "Second = 1\n",
    "Sum = 0\n",
    "\n",
    "for Num in range(0, Number):\n",
    "    print(First, end = '  ')\n",
    "    Sum = Sum + First\n",
    "    Next = First + Second\n",
    "    First = Second\n",
    "    Second = Next\n",
    "\n",
    "print( Sum)"
   ]
  },
  {
   "cell_type": "code",
   "execution_count": 60,
   "id": "25f6278e",
   "metadata": {},
   "outputs": [
    {
     "name": "stdout",
     "output_type": "stream",
     "text": [
      "enter;8\n",
      "0\n",
      "1\n",
      "1\n",
      "2\n",
      "3\n",
      "5\n",
      "8\n",
      "13\n"
     ]
    }
   ],
   "source": [
    "n=int(input(\"enter;\"))\n",
    "a=0\n",
    "b=1\n",
    "i=0\n",
    "sum=0\n",
    "if n<1:\n",
    "    print(\"invalid input\")\n",
    "elif n==1:\n",
    "    print(\"none\")\n",
    "else:\n",
    "    while i<n:\n",
    "        print(a)\n",
    "        #sum=sum+a\n",
    "       # print(sum)\n",
    "        nth=a+b\n",
    "        a=b\n",
    "        b=nth\n",
    "        \n",
    "        i+=1\n",
    "   "
   ]
  },
  {
   "cell_type": "code",
   "execution_count": null,
   "id": "58e80c58",
   "metadata": {},
   "outputs": [],
   "source": []
  }
 ],
 "metadata": {
  "kernelspec": {
   "display_name": "Python 3 (ipykernel)",
   "language": "python",
   "name": "python3"
  },
  "language_info": {
   "codemirror_mode": {
    "name": "ipython",
    "version": 3
   },
   "file_extension": ".py",
   "mimetype": "text/x-python",
   "name": "python",
   "nbconvert_exporter": "python",
   "pygments_lexer": "ipython3",
   "version": "3.9.12"
  }
 },
 "nbformat": 4,
 "nbformat_minor": 5
}
